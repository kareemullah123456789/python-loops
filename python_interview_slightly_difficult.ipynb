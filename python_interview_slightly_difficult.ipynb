{
  "cells": [
    {
      "cell_type": "markdown",
      "metadata": {
        "id": "view-in-github",
        "colab_type": "text"
      },
      "source": [
        "<a href=\"https://colab.research.google.com/github/kareemullah123456789/python-loops/blob/main/python_interview_slightly_difficult.ipynb\" target=\"_parent\"><img src=\"https://colab.research.google.com/assets/colab-badge.svg\" alt=\"Open In Colab\"/></a>"
      ]
    },
    {
      "cell_type": "markdown",
      "id": "26545941",
      "metadata": {
        "id": "26545941"
      },
      "source": [
        "\n",
        "# Python Interview Practice — Slightly Difficult Level\n",
        "\n",
        "This notebook has **slightly difficult questions**.  \n",
        "Harder than easy warm-ups, but not heavy DP or advanced graphs.\n"
      ]
    },
    {
      "cell_type": "markdown",
      "id": "9cdcf213",
      "metadata": {
        "id": "9cdcf213"
      },
      "source": [
        "## 1) Second Largest Element\n",
        "\n",
        "Return the second largest element in a list. If not exists, return None."
      ]
    },
    {
      "cell_type": "code",
      "execution_count": null,
      "id": "e33a49e5",
      "metadata": {
        "id": "e33a49e5"
      },
      "outputs": [],
      "source": [
        "\n",
        "def second_largest(nums):\n",
        "    uniq = list(set(nums))\n",
        "    if len(uniq) < 2:\n",
        "        return None\n",
        "    uniq.sort()\n",
        "    return uniq[-2]\n",
        "\n",
        "# Test\n",
        "assert second_largest([10,20,4,45,99]) == 45\n",
        "assert second_largest([5,5,5]) is None\n",
        "print(\"OK - second_largest\")\n"
      ]
    },
    {
      "cell_type": "markdown",
      "id": "2ed450b5",
      "metadata": {
        "id": "2ed450b5"
      },
      "source": [
        "## 2) Rotate Array by k steps\n",
        "\n",
        "Given array `nums`, rotate elements to the right by k steps."
      ]
    },
    {
      "cell_type": "code",
      "source": [],
      "metadata": {
        "id": "XyCbfMpuD7Lt"
      },
      "id": "XyCbfMpuD7Lt",
      "execution_count": null,
      "outputs": []
    },
    {
      "cell_type": "code",
      "source": [],
      "metadata": {
        "id": "o_0QYTkiD8LX"
      },
      "id": "o_0QYTkiD8LX",
      "execution_count": null,
      "outputs": []
    },
    {
      "cell_type": "markdown",
      "source": [
        "\n",
        "\n",
        "---\n",
        "\n",
        "### 🌟 What does \"rotate an array\" mean?\n",
        "\n",
        "Imagine you have a list of numbers like this:\n",
        "\n",
        "```python\n",
        "[1, 2, 3, 4, 5, 6, 7]\n",
        "```\n",
        "\n",
        "Now, you want to **rotate** it to the **right by 3 positions**. That means:\n",
        "\n",
        "- The last 3 numbers (`5, 6, 7`) move to the **front**\n",
        "- The first 4 numbers (`1, 2, 3, 4`) move to the **back**\n",
        "\n",
        "So after rotating, you get:\n",
        "\n",
        "```python\n",
        "[5, 6, 7, 1, 2, 3, 4]\n",
        "```\n",
        "\n",
        "That’s exactly what this function does!\n",
        "\n",
        "---\n",
        "\n",
        "### 🔍 How the code works\n",
        "\n",
        "Here’s the function again:\n",
        "\n",
        "```python\n",
        "def rotate_array(nums, k):\n",
        "    k = k % len(nums)            # Step 1: Handle large k\n",
        "    return nums[-k:] + nums[:-k] # Step 2: Slice and combine\n",
        "```\n",
        "\n",
        "Let’s go step by step.\n",
        "\n",
        "---\n",
        "\n",
        "#### ✅ Step 1: `k = k % len(nums)`\n",
        "\n",
        "Why do we do this?\n",
        "\n",
        "Because if `k` is larger than the length of the list, rotating wraps around.\n",
        "\n",
        "For example:\n",
        "- Rotating `[1,2,3]` by 1 → `[3,1,2]`\n",
        "- Rotating by 3 → back to original\n",
        "- Rotating by 4 → same as rotating by 1\n",
        "\n",
        "So we use the **modulo operator (`%`)** to keep `k` within bounds.\n",
        "\n",
        "🔹 Example:\n",
        "```python\n",
        "nums = [1,2,3,4,5,6,7]  → len(nums) = 7\n",
        "k = 10\n",
        "k % 7 → 3\n",
        "```\n",
        "So rotating by 10 is the same as rotating by 3.\n",
        "\n",
        "This makes our code safe and efficient.\n",
        "\n",
        "---\n",
        "\n",
        "#### ✅ Step 2: `nums[-k:] + nums[:-k]`\n",
        "\n",
        "This is where the magic happens using **list slicing**.\n",
        "\n",
        "Let’s say `k = 3`, so we want the **last 3 elements** first.\n",
        "\n",
        "- `nums[-k:]` → last `k` elements  \n",
        "  `nums[-3:]` → `[5, 6, 7]`\n",
        "\n",
        "- `nums[:-k]` → everything **except** the last `k` elements  \n",
        "  `nums[:-3]` → `[1, 2, 3, 4]`\n",
        "\n",
        "Then we **concatenate** them:\n",
        "\n",
        "```python\n",
        "[5,6,7] + [1,2,3,4] → [5,6,7,1,2,3,4]\n",
        "```\n",
        "\n",
        "✅ That’s our rotated array!\n",
        "\n",
        "---\n",
        "\n",
        "### 🧪 Test Example\n",
        "\n",
        "```python\n",
        "rotate_array([1,2,3,4,5,6,7], 3)\n",
        "```\n",
        "\n",
        "1. `k = 3 % 7 → 3`\n",
        "2. `nums[-3:]` → `[5,6,7]`\n",
        "3. `nums[:-3]` → `[1,2,3,4]`\n",
        "4. Result → `[5,6,7] + [1,2,3,4] = [5,6,7,1,2,3,4]`\n",
        "\n",
        "✅ Matches expected output!\n",
        "\n",
        "---\n",
        "\n",
        "### ✅ Final Notes (for beginners)\n",
        "\n",
        "- This function **does not modify** the original list — it returns a new one.\n",
        "- It uses **slicing**, which is a powerful and readable feature in Python.\n",
        "- Using `k % len(nums)` prevents errors when `k` is bigger than the list size.\n",
        "\n",
        "---\n",
        "\n",
        "### 💡 Tip: Try These Examples\n",
        "\n",
        "```python\n",
        "print(rotate_array([1,2,3], 1))   # [3,1,2]\n",
        "print(rotate_array([1,2], 3))     # [2,1] (3%2=1 → rotate by 1)\n",
        "print(rotate_array([1], 5))       # [1] (1%1=0 → no change)\n",
        "```\n",
        "\n",
        "---\n",
        "\n",
        "✅ Output:\n",
        "```\n",
        "OK - rotate_array\n",
        "```\n"
      ],
      "metadata": {
        "id": "9EO9dMz0D8ht"
      },
      "id": "9EO9dMz0D8ht"
    },
    {
      "cell_type": "code",
      "execution_count": null,
      "id": "34c25dff",
      "metadata": {
        "id": "34c25dff"
      },
      "outputs": [],
      "source": [
        "\n",
        "def rotate_array(nums, k):\n",
        "    k = k % len(nums)\n",
        "    return nums[-k:] + nums[:-k]\n",
        "\n",
        "# Test\n",
        "assert rotate_array([1,2,3,4,5,6,7], 3) == [5,6,7,1,2,3,4]\n",
        "print(\"OK - rotate_array\")\n"
      ]
    },
    {
      "cell_type": "markdown",
      "id": "a82071cf",
      "metadata": {
        "id": "a82071cf"
      },
      "source": [
        "## 3) Majority Element\n",
        "\n",
        "Return element that is in majority."
      ]
    },
    {
      "cell_type": "markdown",
      "source": [],
      "metadata": {
        "id": "HNnKsEAFJMWb"
      },
      "id": "HNnKsEAFJMWb"
    },
    {
      "cell_type": "code",
      "source": [],
      "metadata": {
        "id": "rrl_SzM0I1Zp"
      },
      "id": "rrl_SzM0I1Zp",
      "execution_count": null,
      "outputs": []
    },
    {
      "cell_type": "markdown",
      "source": [
        "🔍 How the Majority Element Algorithm Works – Step by Step\n",
        "\n",
        "We'll trace through majority_element([5, 5, 5, 2]) using the Boyer-Moore Voting Algorithm.\n",
        "\n",
        "🎯 Goal: Find the number that appears more than half the time.\n",
        "In [5, 5, 5, 2] → length = 4 → majority must appear > 2 times.\n",
        "5 appears 3 times → so 5 is the majority element.\n",
        "\n",
        "🔁 Algorithm Logic:\n",
        "- candidate: current leader\n",
        "- count: net support (how many more votes for leader than against)\n",
        "- If count == 0 → pick new candidate\n",
        "- If n == candidate → count += 1\n",
        "- Else → count -= 1\n",
        "\n",
        "📌 Step-by-Step Trace:\n",
        "\n",
        "| Index | n  | count (before) | candidate (before) | count == 0? | Action Taken             | count (after) | candidate (after) |\n",
        "|-------|----|----------------|--------------------|-------------|--------------------------|---------------|-------------------|\n",
        "| 0     | 5  | 0              | None               | Yes         | Pick 5 as candidate      | 1             | 5                 |\n",
        "| 1     | 5  | 1              | 5                  | No          | 5 == 5 → support (+1)    | 2             | 5                 |\n",
        "| 2     | 5  | 2              | 5                  | No          | 5 == 5 → support (+1)    | 3             | 5                 |\n",
        "| 3     | 2  | 3              | 5                  | No          | 2 ≠ 5 → oppose (-1)      | 2             | 5                 |\n",
        "\n",
        "✅ Final candidate: 5\n",
        "The algorithm correctly returns 5 — the majority element!\n",
        "\n",
        "💡 Why It Works:\n",
        "Even though 2 reduces the count, 5 has strong early support and appears more than half the time, so it stays as the final candidate.\n",
        "\n",
        "🧠 Note:\n",
        "This algorithm assumes a majority element exists. If not guaranteed, add a final check to verify the candidate actually appears more than n/2 times."
      ],
      "metadata": {
        "id": "YjadD7hyJrHz"
      },
      "id": "YjadD7hyJrHz"
    },
    {
      "cell_type": "markdown",
      "source": [
        "🔍 How the Majority Element Algorithm Works – Step by Step\n",
        "\n",
        "We'll trace through majority_element([3, 3, 4, 3]) using the Boyer-Moore Voting Algorithm.\n",
        "\n",
        "🎯 Goal: Find the number that appears more than half the time.\n",
        "Array: [3, 3, 4, 3] → length = 4 → majority must appear > 2 times.\n",
        "3 appears 3 times → so 3 is the majority element ✅\n",
        "\n",
        "🔁 Algorithm Logic:\n",
        "- candidate: current leader\n",
        "- count: net support\n",
        "- If count == 0 → pick current number as new candidate\n",
        "- If n == candidate → count += 1\n",
        "- Else → count -= 1\n",
        "\n",
        "📌 Step-by-Step Trace:\n",
        "\n",
        "| Index | n  | count (before) | candidate (before) | count == 0? | Action Taken             | count (after) | candidate (after) |\n",
        "|-------|----|----------------|--------------------|-------------|--------------------------|---------------|-------------------|\n",
        "| 0     | 3  | 0              | None               | Yes         | Pick 3 as candidate      | 1             | 3                 |\n",
        "| 1     | 3  | 1              | 3                  | No          | 3 == 3 → support (+1)    | 2             | 3                 |\n",
        "| 2     | 4  | 2              | 3                  | No          | 4 ≠ 3 → oppose (-1)      | 1             | 3                 |\n",
        "| 3     | 3  | 1              | 3                  | No          | 3 == 3 → support (+1)    | 2             | 3                 |\n",
        "\n",
        "✅ Final candidate: 3\n",
        "The algorithm correctly returns 3 — the majority element!\n",
        "\n",
        "💡 Why It Works:\n",
        "Even though 4 opposes and reduces support, 3 appears 3 times (majority), so it maintains leadership and ends with positive support.\n",
        "\n",
        "🧠 Key Insight:\n",
        "The majority element will always survive the \"vote cancellations\" because it has more appearances than all others combined.\n",
        "This algorithm runs in O(n) time and O(1) space — very efficient!\n",
        "\n",
        "⚠️ Note:\n",
        "This method assumes a majority element exists. If not guaranteed, verify at the end:\n",
        "  count = [n for n in nums if n == candidate]\n",
        "  if count > len(nums)//2 → return candidate, else None"
      ],
      "metadata": {
        "id": "P80lLSEHKEZl"
      },
      "id": "P80lLSEHKEZl"
    },
    {
      "cell_type": "code",
      "source": [],
      "metadata": {
        "id": "T9gQnt2IKjzo"
      },
      "id": "T9gQnt2IKjzo",
      "execution_count": null,
      "outputs": []
    },
    {
      "cell_type": "markdown",
      "source": [
        "🔍 How the Majority Element Algorithm Works – Step by Step\n",
        "\n",
        "We'll trace through majority_element([1, 2, 1, 3, 1, 1, 1]) using the Boyer-Moore Voting Algorithm.\n",
        "\n",
        "🎯 Goal: Find the number that appears more than half the time.\n",
        "Array: [1, 2, 1, 3, 1, 1, 1] → length = 7 → majority must appear > 3.5 → at least 4 times.\n",
        "1 appears 5 times → so 1 is the majority element ✅\n",
        "\n",
        "🔁 Algorithm Logic:\n",
        "- candidate: current leader\n",
        "- count: net support (how many more votes for leader than against)\n",
        "- If count == 0 → pick current number as new candidate\n",
        "- If n == candidate → count += 1\n",
        "- Else → count -= 1\n",
        "\n",
        "📌 Step-by-Step Trace:\n",
        "\n",
        "| Index | n  | count (before) | candidate (before) | count == 0? | Action Taken              | count (after) | candidate (after) |\n",
        "|-------|----|----------------|--------------------|-------------|---------------------------|---------------|-------------------|\n",
        "| 0     | 1  | 0              | None               | Yes         | Pick 1 as candidate       | 1             | 1                 |\n",
        "| 1     | 2  | 1              | 1                  | No          | 2 ≠ 1 → oppose (-1)       | 0             | 1                 |\n",
        "| 2     | 1  | 0              | 1                  | Yes         | Keep 1 (n == 1) → +1      | 1             | 1                 |\n",
        "| 3     | 3  | 1              | 1                  | No          | 3 ≠ 1 → oppose (-1)       | 0             | 1                 |\n",
        "| 4     | 1  | 0              | 1                  | Yes         | Pick 1 again → +1         | 1             | 1                 |\n",
        "| 5     | 1  | 1              | 1                  | No          | 1 == 1 → support (+1)     | 2             | 1                 |\n",
        "| 6     | 1  | 2              | 1                  | No          | 1 == 1 → support (+1)     | 3             | 1                 |\n",
        "\n",
        "✅ Final candidate: 1\n",
        "The algorithm correctly returns 1 — the majority element!\n",
        "\n",
        "💡 Why It Works:\n",
        "Even though 2 and 3 interrupt and reduce the count to 0 twice, whenever count becomes 0, the next number (which is 1) becomes candidate again. Since 1 appears **5 times** and others only **2 times**, it keeps regaining and growing support.\n",
        "\n",
        "🧠 Key Insight:\n",
        "The majority element doesn't need to be consecutive — it just needs to appear **more than half the time**. The algorithm lets it \"recover\" every time it appears after a reset.\n",
        "\n",
        "⚡ Efficiency:\n",
        "- Time: O(n) — one pass\n",
        "- Space: O(1) — only two variables\n",
        "Perfect for large datasets!\n",
        "\n",
        "⚠️ Reminder:\n",
        "This algorithm assumes a majority element exists. If not guaranteed, add a final check:\n",
        "  if nums.count(candidate) > len(nums) // 2 → return candidate\n",
        "  else → return None"
      ],
      "metadata": {
        "id": "IsrHWSH5Kkcd"
      },
      "id": "IsrHWSH5Kkcd"
    },
    {
      "cell_type": "code",
      "execution_count": null,
      "id": "0752315f",
      "metadata": {
        "colab": {
          "base_uri": "https://localhost:8080/"
        },
        "id": "0752315f",
        "outputId": "2f991ac2-7853-4d70-cddd-7d6eb77230c3"
      },
      "outputs": [
        {
          "output_type": "stream",
          "name": "stdout",
          "text": [
            "OK - majority_element\n"
          ]
        }
      ],
      "source": [
        "\n",
        "def majority_element(nums):\n",
        "    count = 0\n",
        "    candidate = None\n",
        "    for n in nums:\n",
        "        if count == 0:\n",
        "            candidate = n\n",
        "        count += (1 if n == candidate else -1)\n",
        "    return candidate\n",
        "\n",
        "# Test\n",
        "assert majority_element([3,2,3]) == 3\n",
        "assert majority_element([2,2,1,1,1,2,2]) == 2\n",
        "print(\"OK - majority_element\")\n"
      ]
    },
    {
      "cell_type": "code",
      "source": [],
      "metadata": {
        "id": "qLcusvAhKgpo"
      },
      "id": "qLcusvAhKgpo",
      "execution_count": null,
      "outputs": []
    },
    {
      "cell_type": "markdown",
      "source": [],
      "metadata": {
        "id": "viff0x_oKiOY"
      },
      "id": "viff0x_oKiOY"
    },
    {
      "cell_type": "code",
      "source": [],
      "metadata": {
        "id": "caGkDllkIzKu"
      },
      "id": "caGkDllkIzKu",
      "execution_count": null,
      "outputs": []
    },
    {
      "cell_type": "code",
      "source": [],
      "metadata": {
        "id": "5Zhe0L0jI0MN"
      },
      "id": "5Zhe0L0jI0MN",
      "execution_count": null,
      "outputs": []
    },
    {
      "cell_type": "code",
      "source": [
        "majority_element([5,5,5,2])"
      ],
      "metadata": {
        "colab": {
          "base_uri": "https://localhost:8080/"
        },
        "id": "jd758JrnH6MM",
        "outputId": "bd3aa767-2502-48c2-f191-df093d4c8b04"
      },
      "id": "jd758JrnH6MM",
      "execution_count": null,
      "outputs": [
        {
          "output_type": "execute_result",
          "data": {
            "text/plain": [
              "5"
            ]
          },
          "metadata": {},
          "execution_count": 2
        }
      ]
    },
    {
      "cell_type": "code",
      "source": [],
      "metadata": {
        "id": "xs_wAI4bH6Y_"
      },
      "id": "xs_wAI4bH6Y_",
      "execution_count": null,
      "outputs": []
    },
    {
      "cell_type": "markdown",
      "id": "64ac72cf",
      "metadata": {
        "id": "64ac72cf"
      },
      "source": [
        "## 4) Two Sum Closest to Target\n",
        "\n",
        "Find two numbers in list whose sum is closest to target."
      ]
    },
    {
      "cell_type": "code",
      "source": [],
      "metadata": {
        "id": "--FVeq1tNz2r"
      },
      "id": "--FVeq1tNz2r",
      "execution_count": null,
      "outputs": []
    },
    {
      "cell_type": "markdown",
      "source": [
        "# 🔍 Two Sum Closest – Step-by-Step Table Explanation\n",
        "\n",
        "We want to find two numbers in a list that add up to a sum **closest to a target**.\n",
        "\n",
        "We’ll use the **Two Pointers Algorithm** on this example:\n",
        "- `nums = [1, 2, 4, 7, 10]`\n",
        "- `target = 15`\n",
        "\n",
        "First, we **sort** the list (already sorted), then use two pointers.\n",
        "\n",
        "---\n",
        "\n",
        "## 🧮 Step-by-Step Execution\n",
        "\n",
        "| Step | left Index | right Index | nums[left] | nums[right] | Sum = left + right | Target = 15 | Difference = |Sum–15| | Is This Closer? | Action Taken |\n",
        "|------|------------|-------------|------------|-------------|--------------------|-------------|------------------------|------------------|--------------|\n",
        "| 1    | 0          | 4           | 1          | 10          | 11                 | 15          | 4                      | Yes (first)      | Sum < target → move left pointer right (left += 1) |\n",
        "| 2    | 1          | 4           | 2          | 10          | 12                 | 15          | 3                      | Yes              | Sum < target → left += 1 |\n",
        "| 3    | 2          | 4           | 4          | 10          | 14                 | 15          | 1                      | Yes ← Best so far! | Sum < target → left += 1 |\n",
        "| 4    | 3          | 4           | 7          | 10          | 17                 | 15          | 2                      | No (1 < 2)       | Sum > target → move right pointer left (right -= 1) |\n",
        "| 5    | 3          | 3           | —          | —           | —                  | —           | —                      | —                | left == right → Loop ends ✅ |\n",
        "\n",
        "---\n",
        "\n",
        "## 🏁 Final Result\n",
        "\n",
        "- The closest sum was **14**, from the pair **(4, 10)**.\n",
        "- This is only **1 away** from the target (15).\n",
        "- All other pairs are farther away.\n",
        "\n",
        "✅ **Answer: (4, 10)**\n",
        "\n",
        "---\n",
        "\n",
        "## 📌 How the Algorithm Works (Summary)\n",
        "\n",
        "| Concept | Explanation |\n",
        "|--------|-------------|\n",
        "| **Sorting** | We sort the list so we can control the sum: bigger numbers on the right, smaller on the left. |\n",
        "| **Two Pointers** | One starts at the beginning (`left`), one at the end (`right`). |\n",
        "| **Move Smartly** | If sum is too small → increase it by moving `left` right. If too big → decrease it by moving `right` left. |\n",
        "| **Track Best** | Remember the pair with the smallest difference to the target. |\n",
        "| **Efficiency** | Only one pass after sorting → very fast! O(n log n) time. |\n",
        "\n",
        "---\n",
        "\n",
        "## 💡 Why This Is Better Than Checking All Pairs\n",
        "\n",
        "❌ Brute Force: Check every pair → 10+ steps  \n",
        "✅ Two Pointers: Only 4 steps → much faster!\n",
        "\n",
        "It’s like a smart search instead of guessing randomly.\n",
        "\n",
        "---\n",
        "\n",
        "## 🧠 Key Insight\n",
        "\n",
        "> You don’t need to check every pair.  \n",
        "> By sorting and using two pointers, you can **guide** your search toward the best answer.\n",
        "\n",
        "---\n",
        "\n",
        "## ✅ Final Code\n",
        "\n",
        "```python\n",
        "def two_sum_closest(nums, target):\n",
        "    nums.sort()\n",
        "    left = 0\n",
        "    right = len(nums) - 1\n",
        "    best_pair = (nums[left], nums[right])\n",
        "    min_diff = float('inf')\n",
        "\n",
        "    while left < right:\n",
        "        current_sum = nums[left] + nums[right]\n",
        "        diff = abs(current_sum - target)\n",
        "\n",
        "        if diff < min_diff:\n",
        "            min_diff = diff\n",
        "            best_pair = (nums[left], nums[right])\n",
        "\n",
        "        if current_sum < target:\n",
        "            left += 1\n",
        "        else:\n",
        "            right -= 1\n",
        "\n",
        "    return best_pair"
      ],
      "metadata": {
        "id": "WhXCAeAIN0n_"
      },
      "id": "WhXCAeAIN0n_"
    },
    {
      "cell_type": "code",
      "source": [],
      "metadata": {
        "id": "ABpJhOqAaPH8"
      },
      "id": "ABpJhOqAaPH8",
      "execution_count": null,
      "outputs": []
    },
    {
      "cell_type": "markdown",
      "source": [],
      "metadata": {
        "id": "wUU1Mx82aPlg"
      },
      "id": "wUU1Mx82aPlg"
    },
    {
      "cell_type": "code",
      "execution_count": null,
      "id": "01d0b431",
      "metadata": {
        "id": "01d0b431"
      },
      "outputs": [],
      "source": [
        "def two_sum_closest(nums, target):\n",
        "    nums.sort()\n",
        "    left = 0\n",
        "    right = len(nums) - 1\n",
        "    best_pair = (nums[left], nums[right])\n",
        "    min_diff = float('inf')\n",
        "\n",
        "    while left < right:\n",
        "        current_sum = nums[left] + nums[right]\n",
        "        diff = abs(current_sum - target)\n",
        "\n",
        "        if diff < min_diff:\n",
        "            min_diff = diff\n",
        "            best_pair = (nums[left], nums[right])\n",
        "\n",
        "        if current_sum < target:\n",
        "            left += 1\n",
        "        else:\n",
        "            right -= 1\n",
        "\n",
        "    return best_pair"
      ]
    },
    {
      "cell_type": "code",
      "source": [
        "two_sum_closest([1,2,3,4], 5)"
      ],
      "metadata": {
        "colab": {
          "base_uri": "https://localhost:8080/"
        },
        "id": "NvSayMOOO5us",
        "outputId": "b5554dde-540e-4c66-aea2-85d0711c84bc"
      },
      "id": "NvSayMOOO5us",
      "execution_count": null,
      "outputs": [
        {
          "output_type": "execute_result",
          "data": {
            "text/plain": [
              "(1, 4)"
            ]
          },
          "metadata": {},
          "execution_count": 5
        }
      ]
    },
    {
      "cell_type": "markdown",
      "id": "6fdec956",
      "metadata": {
        "id": "6fdec956"
      },
      "source": [
        "## 5) Subarray Sum Equals K\n",
        "\n",
        "Count number of subarrays whose sum equals k."
      ]
    },
    {
      "cell_type": "code",
      "source": [],
      "metadata": {
        "id": "GKY0WbFyagpW"
      },
      "id": "GKY0WbFyagpW",
      "execution_count": null,
      "outputs": []
    },
    {
      "cell_type": "markdown",
      "source": [
        "# 🔍 Find Number of Subarrays That Sum to k\n",
        "\n",
        "We want to count how many **continuous subarrays** (a slice of the list) add up to a target number `k`.\n",
        "\n",
        "Example:\n",
        "- nums = [1, 1, 1], k = 2\n",
        "- Subarrays: [1], [1], [1], [1,1], [1,1], [1,1,1]\n",
        "- Which ones sum to 2? → [1,1] (first two) and [1,1] (last two) → 2 subarrays ✅\n",
        "\n",
        "We could check every subarray (brute force), but that’s slow.\n",
        "\n",
        "Instead, we use a **smart trick** called the **Prefix Sum + Hash Map** method.\n",
        "\n",
        "---\n",
        "\n",
        "## 🧠 Key Idea: Prefix Sum\n",
        "\n",
        "A **prefix sum** is the sum of all numbers from the start up to a point.\n",
        "\n",
        "Example:\n",
        "nums = [1, 1, 1]\n",
        "- After index 0: sum = 1\n",
        "- After index 1: sum = 2\n",
        "- After index 2: sum = 3\n",
        "\n",
        "Now, if we want a subarray that sums to `k=2`, we ask:\n",
        "> Is there a place where the total sum is exactly `2 more` than an earlier sum?\n",
        "\n",
        "Why? Because:\n",
        "👉 (Total so far) - (Earlier sum) = 2 → that means the part in between sums to 2!\n",
        "\n",
        "---\n",
        "\n",
        "## 🎯 Real-World Analogy: Mile Markers on a Road\n",
        "\n",
        "Imagine you're driving:\n",
        "- At town A: mile marker = 10\n",
        "- At town B: mile marker = 15\n",
        "- Distance between A and B = 15 - 10 = 5 miles\n",
        "\n",
        "Same idea:\n",
        "- If current total = 15\n",
        "- Earlier total = 10\n",
        "- Then the subarray between them sums to 5\n",
        "\n",
        "We want that difference to be `k`.\n",
        "\n",
        "So we ask:\n",
        "> Have we seen a prefix sum equal to (current_sum - k) before?\n",
        "\n",
        "If yes → there’s a subarray ending here that sums to `k`!\n",
        "\n",
        "---\n",
        "\n",
        "## 📦 How the Code Works (Line by Line)\n",
        "\n",
        "Let’s trace through: nums = [1, 1, 1], k = 2\n",
        "\n",
        "We use:\n",
        "- `cur_sum` → current total from start\n",
        "- `freq` → remembers how many times each sum has appeared\n",
        "- `count` → how many valid subarrays we’ve found\n",
        "\n",
        "Initialize:\n",
        "- `freq = {0: 1}` → we start with sum 0 (before any number), seen 1 time\n",
        "\n",
        "Now loop through each number:\n",
        "\n",
        "| Step | n | cur_sum (after adding n) | We need: cur_sum - k | Found in freq? | count += how many times? | Update freq |\n",
        "|------|---|---------------------------|------------------------|----------------|----------------------------|-------------|\n",
        "| 1    | 1 | 1                         | 1 - 2 = -1             | No (0 times)   | count += 0 → still 0       | freq[1] = 1 |\n",
        "| 2    | 1 | 2                         | 2 - 2 = 0              | Yes! freq[0]=1 | count += 1 → now 1         | freq[2] = 1 |\n",
        "| 3    | 1 | 3                         | 3 - 2 = 1              | Yes! freq[1]=1 | count += 1 → now 2         | freq[3] = 1 |\n",
        "\n",
        "🎯 Final count = 2 → Correct!\n",
        "\n",
        "The two subarrays:\n",
        "- Index 0 to 1 → [1,1] → sum=2\n",
        "- Index 1 to 2 → [1,1] → sum=2\n",
        "\n",
        "---\n",
        "\n",
        "## 🧩 Why Did We Start with freq[0] = 1?\n",
        "\n",
        "Because:\n",
        "- If the prefix sum itself equals `k`, then the subarray starts from the beginning.\n",
        "- Example: cur_sum = 2, k = 2 → we need cur_sum - k = 0\n",
        "- So we must remember that sum 0 happened at the start!\n",
        "\n",
        "Without `freq[0] = 1`, we’d miss subarrays that start at index 0.\n",
        "\n",
        "---\n",
        "\n",
        "## 💡 Summary\n",
        "\n",
        "| Concept | Why It Matters |\n",
        "|--------|----------------|\n",
        "| `cur_sum` | Tracks running total from start |\n",
        "| `freq` | Remembers how many times each sum has appeared |\n",
        "| `cur_sum - k` | What earlier sum we need to find a valid subarray |\n",
        "| `count += freq[cur_sum - k]` | Add how many such subarrays exist |\n",
        "| `freq[0] = 1` | Handle subarrays starting at index 0 |\n",
        "\n",
        "---\n",
        "\n",
        "## ✅ Final Code (With Comments)\n",
        "\n",
        "```python\n",
        "from collections import defaultdict\n",
        "\n",
        "def subarray_sum(nums, k):\n",
        "    count = 0              # Number of valid subarrays\n",
        "    cur_sum = 0            # Current prefix sum\n",
        "    freq = defaultdict(int) # Keeps track of how many times a sum has appeared\n",
        "    freq[0] = 1            # Important: sum 0 happened once (before any number)\n",
        "\n",
        "    for n in nums:\n",
        "        cur_sum += n                    # Add current number to running sum\n",
        "        # Check if (cur_sum - k) was seen before\n",
        "        # If yes, then there are subarrays ending here that sum to k\n",
        "        count += freq[cur_sum - k]\n",
        "        # Record this current sum\n",
        "        freq[cur_sum] += 1\n",
        "\n",
        "    return count"
      ],
      "metadata": {
        "id": "fhCGyoJaahXI"
      },
      "id": "fhCGyoJaahXI"
    },
    {
      "cell_type": "code",
      "execution_count": null,
      "id": "fdf968aa",
      "metadata": {
        "id": "fdf968aa"
      },
      "outputs": [],
      "source": [
        "\n",
        "from collections import defaultdict\n",
        "\n",
        "def subarray_sum(nums, k):\n",
        "    count = 0\n",
        "    cur_sum = 0\n",
        "    freq = defaultdict(int)\n",
        "    freq[0] = 1\n",
        "    for n in nums:\n",
        "        cur_sum += n\n",
        "        count += freq[cur_sum - k]\n",
        "        freq[cur_sum] += 1\n",
        "    return count\n",
        "\n",
        "# Test\n",
        "assert subarray_sum([1,1,1], 2) == 2\n",
        "assert subarray_sum([1,2,3], 3) == 2\n",
        "print(\"OK - subarray_sum\")\n"
      ]
    },
    {
      "cell_type": "markdown",
      "id": "fdb9a8cd",
      "metadata": {
        "id": "fdb9a8cd"
      },
      "source": [
        "## 6) Longest Common Prefix\n",
        "\n",
        "Find the longest common prefix string among an array of strings."
      ]
    },
    {
      "cell_type": "code",
      "execution_count": null,
      "id": "692f1531",
      "metadata": {
        "id": "692f1531"
      },
      "outputs": [],
      "source": [
        "\n",
        "def longest_common_prefix(strs):\n",
        "    if not strs: return \"\"\n",
        "    prefix = strs[0]\n",
        "    for s in strs[1:]:\n",
        "        while not s.startswith(prefix):\n",
        "            prefix = prefix[:-1]\n",
        "            if not prefix: return \"\"\n",
        "    return prefix\n",
        "\n",
        "# Test\n",
        "assert longest_common_prefix([\"flower\",\"flow\",\"flight\"]) == \"fl\"\n",
        "assert longest_common_prefix([\"dog\",\"racecar\",\"car\"]) == \"\"\n",
        "print(\"OK - longest_common_prefix\")\n"
      ]
    },
    {
      "cell_type": "markdown",
      "id": "ffad32c5",
      "metadata": {
        "id": "ffad32c5"
      },
      "source": [
        "## 7) Move Zeroes\n",
        "\n",
        "Move all zeros to end while maintaining order of non-zeros."
      ]
    },
    {
      "cell_type": "code",
      "execution_count": null,
      "id": "0699887d",
      "metadata": {
        "id": "0699887d"
      },
      "outputs": [],
      "source": [
        "\n",
        "def move_zeroes(nums):\n",
        "    pos = 0\n",
        "    for i in range(len(nums)):\n",
        "        if nums[i] != 0:\n",
        "            nums[pos], nums[i] = nums[i], nums[pos]\n",
        "            pos += 1\n",
        "    return nums\n",
        "\n",
        "# Test\n",
        "assert move_zeroes([0,1,0,3,12]) == [1,3,12,0,0]\n",
        "print(\"OK - move_zeroes\")\n"
      ]
    },
    {
      "cell_type": "markdown",
      "id": "1d626bfd",
      "metadata": {
        "id": "1d626bfd"
      },
      "source": [
        "## 8) Valid Anagram\n",
        "\n",
        "Check if two strings are anagrams of each other."
      ]
    },
    {
      "cell_type": "code",
      "execution_count": null,
      "id": "08ce4501",
      "metadata": {
        "id": "08ce4501"
      },
      "outputs": [],
      "source": [
        "\n",
        "def is_anagram(s, t):\n",
        "    return sorted(s) == sorted(t)\n",
        "\n",
        "# Test\n",
        "assert is_anagram(\"anagram\",\"nagaram\")\n",
        "assert not is_anagram(\"rat\",\"car\")\n",
        "print(\"OK - is_anagram\")\n"
      ]
    },
    {
      "cell_type": "markdown",
      "id": "5271a0ac",
      "metadata": {
        "id": "5271a0ac"
      },
      "source": [
        "## 9) Intersection of Two Arrays\n",
        "\n",
        "Return intersection of two arrays (unique elements)."
      ]
    },
    {
      "cell_type": "code",
      "execution_count": null,
      "id": "93a7134d",
      "metadata": {
        "id": "93a7134d"
      },
      "outputs": [],
      "source": [
        "\n",
        "def intersection(nums1, nums2):\n",
        "    return list(set(nums1) & set(nums2))\n",
        "\n",
        "# Test\n",
        "assert sorted(intersection([1,2,2,1], [2,2])) == [2]\n",
        "print(\"OK - intersection\")\n"
      ]
    },
    {
      "cell_type": "markdown",
      "id": "0b383221",
      "metadata": {
        "id": "0b383221"
      },
      "source": [
        "## 10) Pascal's Triangle\n",
        "\n",
        "Generate first numRows of Pascal's triangle."
      ]
    },
    {
      "cell_type": "code",
      "execution_count": null,
      "id": "b6d9b802",
      "metadata": {
        "id": "b6d9b802"
      },
      "outputs": [],
      "source": [
        "\n",
        "def generate_pascals(numRows):\n",
        "    res = [[1]]\n",
        "    for _ in range(1, numRows):\n",
        "        prev = res[-1]\n",
        "        row = [1] + [prev[i]+prev[i+1] for i in range(len(prev)-1)] + [1]\n",
        "        res.append(row)\n",
        "    return res\n",
        "\n",
        "# Test\n",
        "assert generate_pascals(5) == [[1],[1,1],[1,2,1],[1,3,3,1],[1,4,6,4,1]]\n",
        "print(\"OK - generate_pascals\")\n"
      ]
    }
  ],
  "metadata": {
    "colab": {
      "provenance": [],
      "include_colab_link": true
    },
    "language_info": {
      "name": "python"
    },
    "kernelspec": {
      "name": "python3",
      "display_name": "Python 3"
    }
  },
  "nbformat": 4,
  "nbformat_minor": 5
}