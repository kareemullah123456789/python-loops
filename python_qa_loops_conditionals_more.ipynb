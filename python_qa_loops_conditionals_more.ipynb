{
  "cells": [
    {
      "cell_type": "markdown",
      "metadata": {
        "id": "view-in-github",
        "colab_type": "text"
      },
      "source": [
        "<a href=\"https://colab.research.google.com/github/kareemullah123456789/python-loops/blob/main/python_qa_loops_conditionals_more.ipynb\" target=\"_parent\"><img src=\"https://colab.research.google.com/assets/colab-badge.svg\" alt=\"Open In Colab\"/></a>"
      ]
    },
    {
      "cell_type": "markdown",
      "id": "fcf0c953",
      "metadata": {
        "id": "fcf0c953"
      },
      "source": [
        "\n",
        "# Python Q&A Notebook: Loops, Conditionals, and Logical Operators\n",
        "**Level:** Slightly above easy  \n",
        "**Format:** Question → Answer with code, line-by-line comments, and sample output\n",
        "\n",
        "Run cells top-to-bottom. Every answer block is fully commented and prints its result.\n"
      ]
    },
    {
      "cell_type": "markdown",
      "id": "15dd0eb9",
      "metadata": {
        "id": "15dd0eb9"
      },
      "source": [
        "## for loop Q1\n",
        "**Question:** Given a list of integers, print the square of each odd number on one line separated by spaces."
      ]
    },
    {
      "cell_type": "code",
      "execution_count": null,
      "id": "fbc13ef9",
      "metadata": {
        "id": "fbc13ef9"
      },
      "outputs": [],
      "source": [
        "# Input list\n",
        "nums = [2, 3, 4, 5, 6, 7]\n",
        "\n",
        "# We'll gather results in a list of strings to join with spaces\n",
        "result = []                   # start with an empty list to store stringified squares\n",
        "\n",
        "for n in nums:                # iterate over each number\n",
        "    if n % 2 != 0:            # check if 'n' is odd\n",
        "        square = n * n        # compute the square of the odd number\n",
        "        result.append(str(square))  # append its string form for joining\n",
        "\n",
        "# Join all squares with a space and print\n",
        "print(\" \".join(result))       # Expected: 9 25 49\n"
      ]
    },
    {
      "cell_type": "markdown",
      "id": "1351aa92",
      "metadata": {
        "id": "1351aa92"
      },
      "source": [
        "## for loop Q2\n",
        "**Question:** Create a dictionary that maps each word to its length for the list ['alpha','beta','gamma'] using a for loop."
      ]
    },
    {
      "cell_type": "code",
      "source": [
        "words = ['alpha', 'beta', 'gamma']\n",
        "k={}\n",
        "for i in words:\n",
        "\n",
        "print(k[i]=len(i)k)\n",
        "\n"
      ],
      "metadata": {
        "colab": {
          "base_uri": "https://localhost:8080/"
        },
        "id": "na_Wc8riyrfU",
        "outputId": "c5a9457c-2c50-44ff-ce84-c4a665ed45e6"
      },
      "id": "na_Wc8riyrfU",
      "execution_count": 2,
      "outputs": [
        {
          "output_type": "stream",
          "name": "stdout",
          "text": [
            "{'alpha': 5, 'beta': 4, 'gamma': 5}\n"
          ]
        }
      ]
    },
    {
      "cell_type": "code",
      "source": [
        "i = 0\n",
        "l = {}\n",
        "while i < len(words):\n",
        "  l[words[i]] = len(words[i])\n",
        "  i = i + 1\n",
        "print(l)\n",
        "\n"
      ],
      "metadata": {
        "colab": {
          "base_uri": "https://localhost:8080/"
        },
        "id": "LKg5JMW10XP0",
        "outputId": "61ca8ec3-fd02-4cc9-841c-5e15716882c7"
      },
      "id": "LKg5JMW10XP0",
      "execution_count": 4,
      "outputs": [
        {
          "output_type": "stream",
          "name": "stdout",
          "text": [
            "{'alpha': 5, 'beta': 4, 'gamma': 5}\n"
          ]
        }
      ]
    },
    {
      "cell_type": "code",
      "source": [
        "len(words)"
      ],
      "metadata": {
        "colab": {
          "base_uri": "https://localhost:8080/"
        },
        "id": "FB5aF8Ba0up-",
        "outputId": "6bc0c7f0-b9cd-4c83-fe6e-58e126b5d407"
      },
      "id": "FB5aF8Ba0up-",
      "execution_count": 3,
      "outputs": [
        {
          "output_type": "execute_result",
          "data": {
            "text/plain": [
              "3"
            ]
          },
          "metadata": {},
          "execution_count": 3
        }
      ]
    },
    {
      "cell_type": "code",
      "execution_count": null,
      "id": "74600b66",
      "metadata": {
        "id": "74600b66"
      },
      "outputs": [],
      "source": [
        "words = ['alpha', 'beta', 'gamma']\n",
        "\n",
        "length_map = {}               # start with an empty dictionary\n",
        "for w in words:               # iterate word by word\n",
        "    length_map[w] = len(w)    # set key as the word, value as its length\n",
        "\n",
        "print(length_map)             # Expected: {'alpha': 5, 'beta': 4, 'gamma': 5}\n"
      ]
    },
    {
      "cell_type": "markdown",
      "id": "75c2dc37",
      "metadata": {
        "id": "75c2dc37"
      },
      "source": [
        "## for loop Q3\n",
        "**Question:** From numbers 1..20, print the first 5 multiples of 3 you encounter, then stop iterating immediately."
      ]
    },
    {
      "cell_type": "code",
      "execution_count": null,
      "id": "801ab8f2",
      "metadata": {
        "id": "801ab8f2"
      },
      "outputs": [],
      "source": [
        "found = 0                     # counter for how many multiples we've printed\n",
        "\n",
        "for n in range(1, 21):         # iterate from 1 to 20 inclusive\n",
        "    if n % 3 == 0:             # if n is a multiple of 3\n",
        "        print(n, end=\" \")      # print on same line with a trailing space\n",
        "        found += 1             # increment how many we've found\n",
        "        if found == 5:         # once we've printed 5, break out\n",
        "            break\n",
        "\n",
        "print()                        # newline\n",
        "# Expected: 3 6 9 12 15\n"
      ]
    },
    {
      "cell_type": "markdown",
      "id": "6bc1e603",
      "metadata": {
        "id": "6bc1e603"
      },
      "source": [
        "## while loop Q1\n",
        "**Question:** Using a while loop, keep halving a number (integer division) until it becomes 0. Print each intermediate value."
      ]
    },
    {
      "cell_type": "code",
      "execution_count": 5,
      "id": "ec861ec1",
      "metadata": {
        "colab": {
          "base_uri": "https://localhost:8080/"
        },
        "id": "ec861ec1",
        "outputId": "6fa3f5f4-2671-42e2-91cf-9f1415e0c376"
      },
      "outputs": [
        {
          "output_type": "stream",
          "name": "stdout",
          "text": [
            "100 50 25 12 6 3 1 \n"
          ]
        }
      ],
      "source": [
        "n = 100                 # start from 100\n",
        "\n",
        "# Continue looping while n is greater than 0\n",
        "while n > 0:\n",
        "    print(n, end=\" \")         # print current value\n",
        "    n //= 2                   # integer-division by 2 to halve it\n",
        "\n",
        "print()                       # newline\n",
        "# Expected sequence: 100 50 25 12 6 3 1\n"
      ]
    },
    {
      "cell_type": "markdown",
      "id": "19ad1d23",
      "metadata": {
        "id": "19ad1d23"
      },
      "source": [
        "## while loop Q2\n",
        "**Question:** Given a target sum 30, keep adding consecutive integers starting from 1 until the running total reaches or exceeds the target. Print the final total and the last integer added."
      ]
    },
    {
      "cell_type": "code",
      "execution_count": 8,
      "id": "f6d68f39",
      "metadata": {
        "colab": {
          "base_uri": "https://localhost:8080/"
        },
        "id": "f6d68f39",
        "outputId": "e011d327-86aa-47ff-95e9-bf08e950e882"
      },
      "outputs": [
        {
          "output_type": "stream",
          "name": "stdout",
          "text": [
            "9\n",
            "36 8\n"
          ]
        }
      ],
      "source": [
        "target = 30             # the target sum we want to reach or exceed\n",
        "total = 0                     # running total starts at 0\n",
        "i = 1                         # start adding from 1\n",
        "\n",
        "while total < target:         # loop until total >= target\n",
        "    total += i                # add i to total\n",
        "    i += 1\n",
        "print(i)                 # move to the next integer\n",
        "\n",
        "# When the loop exits, 'i' is one past the last integer added\n",
        "last_added = i - 1            # so we subtract 1 to get the last used\n",
        "print(total, last_added)       # Expected: 36 8  (because 1+2+...+8 = 36)\n"
      ]
    },
    {
      "cell_type": "markdown",
      "id": "a6d39645",
      "metadata": {
        "id": "a6d39645"
      },
      "source": [
        "## while loop Q3\n",
        "**Question:** Use a while loop to remove and print items from a list until it's empty. Start with ['Q','A','B']."
      ]
    },
    {
      "cell_type": "code",
      "execution_count": 9,
      "id": "5d298b01",
      "metadata": {
        "colab": {
          "base_uri": "https://localhost:8080/"
        },
        "id": "5d298b01",
        "outputId": "25e0204c-c1cf-40f6-c8a4-c842c68b8cb8"
      },
      "outputs": [
        {
          "output_type": "stream",
          "name": "stdout",
          "text": [
            "Q ['A', 'B']\n",
            "A ['B']\n",
            "B []\n"
          ]
        }
      ],
      "source": [
        "items = ['Q', 'A', 'B']\n",
        "\n",
        "# Loop while the list still has items\n",
        "while items:                  # an empty list is falsy; non-empty is truthy\n",
        "    x = items.pop(0)          # remove from the front (index 0)\n",
        "    print(x, items)           # show removed item and the remaining list\n",
        "\n",
        "# Expected output lines:\n",
        "# Q ['A', 'B']\n",
        "# A ['B']\n",
        "# B []\n"
      ]
    },
    {
      "cell_type": "markdown",
      "id": "237596f0",
      "metadata": {
        "id": "237596f0"
      },
      "source": [
        "## if statements Q1\n",
        "**Question:** Check if a given year is a leap year using the rules: divisible by 400 is leap, divisible by 100 is not leap, divisible by 4 is leap."
      ]
    },
    {
      "cell_type": "code",
      "execution_count": null,
      "id": "ed434f6d",
      "metadata": {
        "id": "ed434f6d"
      },
      "outputs": [],
      "source": [
        "year = 2000\n",
        "\n",
        "# First check the strongest rule (divisible by 400)\n",
        "if year % 400 == 0:\n",
        "    print(\"Leap\")\n",
        "# Then check the 'century but not leap' rule\n",
        "elif year % 100 == 0:\n",
        "    print(\"Not Leap\")\n",
        "# Then check the regular 4-year rule\n",
        "elif year % 4 == 0:\n",
        "    print(\"Leap\")\n",
        "# Otherwise, it's not a leap year\n",
        "else:\n",
        "    print(\"Not Leap\")\n",
        "\n",
        "# Expected: Leap\n"
      ]
    },
    {
      "cell_type": "markdown",
      "id": "70be9be9",
      "metadata": {
        "id": "70be9be9"
      },
      "source": [
        "## if statements Q2\n",
        "**Question:** Given a score from 0 to 100, print 'A' for 90+, 'B' for 80–89, 'C' for 70–79, else 'F'."
      ]
    },
    {
      "cell_type": "code",
      "execution_count": null,
      "id": "c56f1c83",
      "metadata": {
        "id": "c56f1c83"
      },
      "outputs": [],
      "source": [
        "score = 83\n",
        "\n",
        "if score >= 90:                # check for A first\n",
        "    print('A')\n",
        "elif score >= 80:              # then B\n",
        "    print('B')\n",
        "elif score >= 70:              # then C\n",
        "    print('C')\n",
        "else:                          # anything below 70 is F\n",
        "    print('F')\n",
        "\n",
        "# Expected: B\n"
      ]
    },
    {
      "cell_type": "markdown",
      "id": "bb7dbc03",
      "metadata": {
        "id": "bb7dbc03"
      },
      "source": [
        "## if statements Q3\n",
        "**Question:** Given two numbers a and b, print the relation: 'a<b', 'a==b', or 'a>b'."
      ]
    },
    {
      "cell_type": "code",
      "execution_count": null,
      "id": "e3299230",
      "metadata": {
        "id": "e3299230"
      },
      "outputs": [],
      "source": [
        "a, b = 5, 5\n",
        "\n",
        "if a < b:                      # if a is strictly less than b\n",
        "    print(\"a<b\")\n",
        "elif a == b:                   # if a equals b\n",
        "    print(\"a==b\")\n",
        "else:                          # otherwise a must be greater than b\n",
        "    print(\"a>b\")\n",
        "\n",
        "# Expected: a==b\n"
      ]
    },
    {
      "cell_type": "markdown",
      "id": "30a1d5bb",
      "metadata": {
        "id": "30a1d5bb"
      },
      "source": [
        "## logical operators Q1\n",
        "**Question:** Given three booleans has_id, has_ticket, and sober, allow entry only if the person has ID and ticket and is sober. Print 'Allow' or 'Deny'."
      ]
    },
    {
      "cell_type": "code",
      "execution_count": null,
      "id": "0b39eb20",
      "metadata": {
        "id": "0b39eb20"
      },
      "outputs": [],
      "source": [
        "has_id = True\n",
        "has_ticket = True\n",
        "sober = True\n",
        "\n",
        "# Use 'and' to require all conditions to be true\n",
        "if has_id and has_ticket and sober:\n",
        "    print(\"Allow\")\n",
        "else:\n",
        "    print(\"Deny\")\n",
        "\n",
        "# Expected: Allow\n"
      ]
    },
    {
      "cell_type": "markdown",
      "id": "8f035ef1",
      "metadata": {
        "id": "8f035ef1"
      },
      "source": [
        "## logical operators Q2\n",
        "**Question:** Given an integer n, print 'Fizz' if n is divisible by 3 or 5 but not both. Otherwise print n."
      ]
    },
    {
      "cell_type": "code",
      "execution_count": null,
      "id": "3bec0136",
      "metadata": {
        "id": "3bec0136"
      },
      "outputs": [],
      "source": [
        "n = 15\n",
        "\n",
        "# Check divisibility by 3 or 5, then exclude the 'both' case\n",
        "if (n % 3 == 0 or n % 5 == 0) and not (n % 3 == 0 and n % 5 == 0):\n",
        "    print(\"Fizz\")\n",
        "else:\n",
        "    print(n)\n",
        "\n",
        "# Expected: 15 (because it's divisible by both)\n"
      ]
    },
    {
      "cell_type": "markdown",
      "id": "19a2abce",
      "metadata": {
        "id": "19a2abce"
      },
      "source": [
        "## logical operators Q3\n",
        "**Question:** Given an age and a guardian flag, print 'Eligible' if age >= 18 or (age >= 16 and has_guardian is True). Otherwise 'Not Eligible'."
      ]
    },
    {
      "cell_type": "code",
      "execution_count": null,
      "id": "6197b619",
      "metadata": {
        "id": "6197b619"
      },
      "outputs": [],
      "source": [
        "age = 17\n",
        "has_guardian = True\n",
        "\n",
        "# Either adult, or 16-17 with a guardian\n",
        "if age >= 18 or (age >= 16 and has_guardian):\n",
        "    print(\"Eligible\")\n",
        "else:\n",
        "    print(\"Not Eligible\")\n",
        "\n",
        "# Expected: Eligible\n"
      ]
    },
    {
      "cell_type": "code",
      "source": [
        "n= 100\n",
        "count =0\n",
        "for i in range(n):\n",
        "  if ((i % 4 == 0) and (i%6 != 0)):\n",
        "    print(i)\n",
        "    count +=1\n",
        "  if count == 6:\n",
        "    break\n"
      ],
      "metadata": {
        "colab": {
          "base_uri": "https://localhost:8080/"
        },
        "id": "I-z4riN5HMSf",
        "outputId": "fb4bd6f6-137a-40bc-ad90-d6df8821ba7b"
      },
      "id": "I-z4riN5HMSf",
      "execution_count": 13,
      "outputs": [
        {
          "output_type": "stream",
          "name": "stdout",
          "text": [
            "4\n",
            "8\n",
            "16\n",
            "20\n",
            "28\n",
            "32\n"
          ]
        }
      ]
    },
    {
      "cell_type": "markdown",
      "id": "03742bed",
      "metadata": {
        "id": "03742bed"
      },
      "source": [
        "## Mixed practice Q1\n",
        "**Question:** From 1..30, print numbers that are multiples of 4 but not of 6, stop after printing 6 such numbers."
      ]
    },
    {
      "cell_type": "code",
      "execution_count": null,
      "id": "bea3a6c7",
      "metadata": {
        "id": "bea3a6c7"
      },
      "outputs": [],
      "source": [
        "count = 0\n",
        "\n",
        "for n in range(1, 31):                    # iterate 1..30\n",
        "    if (n % 4 == 0) and not (n % 6 == 0): # multiple of 4 but not of 6\n",
        "        print(n, end=\" \")                 # print on one line\n",
        "        count += 1                        # increment count\n",
        "        if count == 6:                    # stop after 6 numbers\n",
        "            break\n",
        "\n",
        "print()                                   # newline\n",
        "# Expected: 4 8 16 20 28 (and only 5 exist in 1..30, so it prints 5 and stops at 30)\n"
      ]
    },
    {
      "cell_type": "markdown",
      "id": "35c31a4b",
      "metadata": {
        "id": "35c31a4b"
      },
      "source": [
        "\n",
        "### Done\n",
        "You now have worked examples with comments. Change inputs and re-run to test understanding.\n"
      ]
    },
    {
      "cell_type": "markdown",
      "id": "203069a2",
      "metadata": {
        "id": "203069a2"
      },
      "source": [
        "## for loop Q4\n",
        "**Question:** Print the factorial of a given number using a for loop."
      ]
    },
    {
      "cell_type": "code",
      "execution_count": null,
      "id": "2e999878",
      "metadata": {
        "id": "2e999878"
      },
      "outputs": [],
      "source": [
        "n = 6\n",
        "fact = 1\n",
        "\n",
        "for i in range(1, n+1):   # loop from 1 to n\n",
        "    fact *= i             # multiply running product by i\n",
        "\n",
        "print(fact)               # Expected: 720\n"
      ]
    },
    {
      "cell_type": "markdown",
      "id": "23e686d5",
      "metadata": {
        "id": "23e686d5"
      },
      "source": [
        "## while loop Q4\n",
        "**Question:** Using a while loop, reverse the digits of an integer and print it."
      ]
    },
    {
      "cell_type": "code",
      "execution_count": 17,
      "id": "34c13ead",
      "metadata": {
        "colab": {
          "base_uri": "https://localhost:8080/"
        },
        "id": "34c13ead",
        "outputId": "7c777b64-2a5f-41b7-d6c1-8a6a0d41111e"
      },
      "outputs": [
        {
          "output_type": "stream",
          "name": "stdout",
          "text": [
            "digit: 5\n",
            "rev: 5\n",
            "num: 1234\n",
            "digit: 4\n",
            "rev: 54\n",
            "num: 123\n",
            "digit: 3\n",
            "rev: 543\n",
            "num: 12\n",
            "digit: 2\n",
            "rev: 5432\n",
            "num: 1\n",
            "digit: 1\n",
            "rev: 54321\n",
            "num: 0\n",
            "54321\n"
          ]
        }
      ],
      "source": [
        "num = 12345\n",
        "rev = 0\n",
        "\n",
        "while num > 0:\n",
        "    digit = num % 10       # take last digit\n",
        "    print(\"digit:\",digit)\n",
        "    rev = rev * 10 + digit # build reversed number\n",
        "    print(\"rev:\",rev)\n",
        "    num =num// 10\n",
        "    print(\"num:\",num)           # drop the last digit\n",
        "\n",
        "print(rev)                 # Expected: 54321\n"
      ]
    },
    {
      "cell_type": "markdown",
      "id": "bddd5d01",
      "metadata": {
        "id": "bddd5d01"
      },
      "source": [
        "## if statements Q4\n",
        "**Question:** Check if a number is prime or not using if and a for loop."
      ]
    },
    {
      "cell_type": "code",
      "execution_count": 34,
      "id": "b971e8c2",
      "metadata": {
        "colab": {
          "base_uri": "https://localhost:8080/"
        },
        "id": "b971e8c2",
        "outputId": "9c7e52f1-85f3-45b2-e0aa-e3b1ab45e138"
      },
      "outputs": [
        {
          "output_type": "stream",
          "name": "stdout",
          "text": [
            "i: 2\n",
            "3%2\n"
          ]
        }
      ],
      "source": [
        "n = 3\n",
        "\n",
        "for i in range(2, int(n)):\n",
        "  print(\"i:\",i)\n",
        "  print(f\"{n}%{i}\")\n",
        "  if n % i == 0:\n",
        "    print(f\"{n}%{i} , i am divisible by {i}\")\n",
        "    print(\"number is  not prime\")\n",
        "    break\n",
        "\n",
        "# Expected: Prime\n"
      ]
    },
    {
      "cell_type": "markdown",
      "id": "2bdcc329",
      "metadata": {
        "id": "2bdcc329"
      },
      "source": [
        "## logical operators Q4\n",
        "**Question:** Check if a string is both non-empty and starts with a vowel, print 'Valid' else 'Invalid'."
      ]
    },
    {
      "cell_type": "code",
      "execution_count": 38,
      "id": "f2383283",
      "metadata": {
        "colab": {
          "base_uri": "https://localhost:8080/"
        },
        "id": "f2383283",
        "outputId": "fef714b5-c3e8-46be-9273-0a01e16b7deb"
      },
      "outputs": [
        {
          "output_type": "stream",
          "name": "stdout",
          "text": [
            "Valid\n"
          ]
        }
      ],
      "source": [
        "s = \"apple\"\n",
        "\n",
        "# string must not be empty AND first char must be vowel\n",
        "if s[0].lower() in 'aeiou':\n",
        "    print(\"Valid\")\n",
        "else:\n",
        "    print(\"Invalid\")\n",
        "\n",
        "# Expected: Valid\n"
      ]
    },
    {
      "cell_type": "markdown",
      "id": "6c2246e6",
      "metadata": {
        "id": "6c2246e6"
      },
      "source": [
        "## Mixed practice Q2\n",
        "**Question:** Find all even numbers between 1 and 50 that are divisible by 7 or 9, print them in a list."
      ]
    },
    {
      "cell_type": "code",
      "execution_count": null,
      "id": "1de058b9",
      "metadata": {
        "id": "1de058b9"
      },
      "outputs": [],
      "source": [
        "nums = []\n",
        "\n",
        "for n in range(2, 51, 2):     # iterate only even numbers\n",
        "    if n % 7 == 0 or n % 9 == 0:\n",
        "        nums.append(n)\n",
        "\n",
        "print(nums)\n",
        "# Expected: [14, 18, 28, 36, 42]\n"
      ]
    }
  ],
  "metadata": {
    "colab": {
      "provenance": [],
      "include_colab_link": true
    },
    "language_info": {
      "name": "python"
    },
    "kernelspec": {
      "name": "python3",
      "display_name": "Python 3"
    }
  },
  "nbformat": 4,
  "nbformat_minor": 5
}